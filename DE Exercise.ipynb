{
 "cells": [
  {
   "cell_type": "markdown",
   "metadata": {
    "tags": []
   },
   "source": [
    "# Data Engineer's routine\n",
    "\n",
    "We have received new data from a customer which we need to load into our application. To do so, we need to build a repeatable data pipeline which conforms data to a given format.\n",
    "\n",
    "You will be dealing with utility data. In our case, each data point is an electricity bill, which was sent to our customer by their electricity provider. An electricity consists of an `Amount` (in kWh) of electricity used, a `Spend` (in £) associated with it, as well as information about the underlying `Tariff` and our `Facility` (Office) for which the electricity bill applies.\n",
    "\n",
    "Additionally, we need to query our customer's API to get information about how many `Employees` work at each `Facility`."
   ]
  },
  {
   "cell_type": "markdown",
   "metadata": {},
   "source": [
    "## 1. Getting data from an API\n",
    "We want to get information about our customer's number of employees per office, which is currently available via a REST API at `http://customer.com/api/v2/employees`. Please write some (pseudo-)code to illustrate how you would query the data and store it into a `json` file.\n",
    "\n",
    "Unfortunately, we don't have a REST API up and running for this exercise, so please load up the employees data from the supplier file, [employee.json](./employees.json)."
   ]
  },
  {
   "cell_type": "markdown",
   "metadata": {},
   "source": [
    "## 2. Data clean-up\n",
    "The main data file is supplied as [utilities.csv](./utilities.csv). Please load and explore the file, and clean up any data issues you can identify. If you're not sure if some peculiarity in the data is an issue, consult your colleague."
   ]
  },
  {
   "cell_type": "markdown",
   "metadata": {},
   "source": [
    "## 3. Data wrangling\n",
    "We need to wrangle the utilities data we have received into a target format, consisting of the following columns, with appropriate values and data types:\n",
    "\n",
    "\n",
    "```python\n",
    "['FacilityID', 'UtilityID', 'Tariff', 'Quantity', 'Unit', 'Spend', 'Currency', 'StartDate', 'EndDate']\n",
    "```\n",
    "\n",
    "This specification is fixed, but we don't want to lose any data outside of this specification, so please also design a data model and implement the data pipeline to keep all information from the source data, in a normalised format."
   ]
  }
 ],
 "metadata": {
  "createdOn": 1620126631380,
  "creator": "Elias",
  "customFields": {},
  "kernelspec": {
   "display_name": "Python 3 (ipykernel)",
   "language": "python",
   "name": "python3"
  },
  "language_info": {
   "codemirror_mode": {
    "name": "ipython",
    "version": 3
   },
   "file_extension": ".py",
   "mimetype": "text/x-python",
   "name": "python",
   "nbconvert_exporter": "python",
   "pygments_lexer": "ipython3",
   "version": "3.10.12"
  },
  "modifiedBy": "Elias",
  "tags": []
 },
 "nbformat": 4,
 "nbformat_minor": 4
}
